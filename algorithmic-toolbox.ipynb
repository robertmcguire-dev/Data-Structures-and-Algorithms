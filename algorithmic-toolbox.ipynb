{
 "cells": [
  {
   "cell_type": "markdown",
   "metadata": {},
   "source": [
    "## Algorithmic Toolbox\n",
    "### Week 2"
   ]
  },
  {
   "cell_type": "code",
   "execution_count": 6,
   "metadata": {},
   "outputs": [
    {
     "name": "stdout",
     "output_type": "stream",
     "text": [
      "1232\n",
      "132827434889956666188364528316192916610435054055330450401401819249117702509377921810745514201758600645420121455875021488258255414077194298023381799879149014698768423059012010257331528334675432554144178423414308082188302099052309758037976097851299655960020709\n"
     ]
    }
   ],
   "source": [
    "# output: returns a fibonacci number to degree n\n",
    "def fibonacci_fast(n):\n",
    "    if n == 0:\n",
    "        return 0\n",
    "    else:\n",
    "        f = [0, 1]\n",
    "        for i in range(2, n + 1):\n",
    "            f.append(f[i - 2] + f[i - 1])\n",
    "        return f[-1]\n",
    "\n",
    "\n",
    "n = int(input())\n",
    "print(fibonacci_fast(n))\n"
   ]
  },
  {
   "cell_type": "code",
   "execution_count": 7,
   "metadata": {},
   "outputs": [
    {
     "name": "stdout",
     "output_type": "stream",
     "text": [
      "1232\n",
      "9\n"
     ]
    }
   ],
   "source": [
    "# output: returns the last digit of a fibonacci number\n",
    "def last_digit(n):\n",
    "    if n == 0:\n",
    "        return 0\n",
    "    else:\n",
    "        f = [0, 1]\n",
    "        for i in range(2, n + 1):\n",
    "            f.append((f[i - 2] + f[i - 1]) % 10)\n",
    "        return f[-1]\n",
    "\n",
    "\n",
    "n = int(input())\n",
    "print(last_digit(n))"
   ]
  },
  {
   "cell_type": "code",
   "execution_count": 5,
   "metadata": {},
   "outputs": [
    {
     "name": "stdout",
     "output_type": "stream",
     "text": [
      "78 87\n",
      "3\n"
     ]
    }
   ],
   "source": [
    "# output: returns the greatest common divisor of two integers\n",
    "def gcd(a, b):\n",
    "    c = 1\n",
    "    while c != 0:\n",
    "        c = a % b\n",
    "        a, b = b, c\n",
    "    return a\n",
    "\n",
    "\n",
    "if __name__ == '__main__':\n",
    "    a, b = map(int, input().split())\n",
    "    print(gcd(a, b))"
   ]
  },
  {
   "cell_type": "code",
   "execution_count": 4,
   "metadata": {},
   "outputs": [
    {
     "name": "stdout",
     "output_type": "stream",
     "text": [
      "6 8\n",
      "24\n"
     ]
    }
   ],
   "source": [
    "# output: returns the least common multiple of two integers.\n",
    "def lcm(a, b):\n",
    "    if a == 0 or b == 0:\n",
    "        return 0\n",
    "    else:\n",
    "        c = -1\n",
    "        d = a * b\n",
    "        while c != 0:\n",
    "            c = a % b\n",
    "            a, b = b, c\n",
    "    return int(d / a)\n",
    "\n",
    "\n",
    "if __name__ == '__main__':\n",
    "    a, b = map(int, input().split())\n",
    "    print(lcm(a, b))"
   ]
  },
  {
   "cell_type": "code",
   "execution_count": null,
   "metadata": {},
   "outputs": [],
   "source": []
  }
 ],
 "metadata": {
  "kernelspec": {
   "display_name": "Python 3",
   "language": "python",
   "name": "python3"
  },
  "language_info": {
   "codemirror_mode": {
    "name": "ipython",
    "version": 3
   },
   "file_extension": ".py",
   "mimetype": "text/x-python",
   "name": "python",
   "nbconvert_exporter": "python",
   "pygments_lexer": "ipython3",
   "version": "3.7.4"
  }
 },
 "nbformat": 4,
 "nbformat_minor": 2
}
