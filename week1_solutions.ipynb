{
 "cells": [
  {
   "cell_type": "markdown",
   "metadata": {},
   "source": [
    "# Week 1 "
   ]
  },
  {
   "cell_type": "markdown",
   "metadata": {},
   "source": [
    "### <code>aplusb.py</code>"
   ]
  },
  {
   "cell_type": "code",
   "execution_count": null,
   "metadata": {},
   "outputs": [],
   "source": [
    "def sum_of_two_digits(first_digit, second_digit):\n",
    "    return first_digit + second_digit\n",
    "\n",
    "\n",
    "if __name__ == '__main__':\n",
    "    a, b = map(int, input().split())\n",
    "    print(sum_of_two_digits(a, b))"
   ]
  },
  {
   "cell_type": "markdown",
   "metadata": {},
   "source": [
    "###  <code>MaxpairwiseProduct.py</code>"
   ]
  },
  {
   "cell_type": "code",
   "execution_count": null,
   "metadata": {},
   "outputs": [],
   "source": [
    "\"\"\" Maximum Pairwise Product Problem.\n",
    "Find the maximum product of two distinct numbers in a sequence\n",
    "of non-negative integers.\n",
    "Specification:\n",
    "Input: A sequence of non-negative integers.\n",
    "Output: The maximum value that can be obtained by multiplying\n",
    "two different elements from the sequence.\n",
    "Samples:\n",
    " >>> input n = 10 and A = 7 5 14 2 8 8 10 1 2 3 \n",
    " >>> max_pairwise_product(A)\n",
    " 140\n",
    " >>> # Explanation: To acieve the value 140 take the second largest value\n",
    " and the largest value in the array and multiply them together.\n",
    " >>> input n = 3 and A = 1 2 3\n",
    " 6\n",
    " >>> Explanation: Here we just multyply the value 2 by the value 3 \"\"\"\n",
    "\n",
    "\n",
    "def max_pairwise_product(A):\n",
    "    A.sort()\n",
    "    return A[-2] * A[-1]\n",
    "\n",
    "n = int(input())\n",
    "a = [int(x) for x in input().split()]\n",
    "print(max_pairwise_product(a))\n"
   ]
  },
  {
   "cell_type": "code",
   "execution_count": null,
   "metadata": {},
   "outputs": [],
   "source": []
  }
 ],
 "metadata": {
  "kernelspec": {
   "display_name": "Python 3",
   "language": "python",
   "name": "python3"
  },
  "language_info": {
   "codemirror_mode": {
    "name": "ipython",
    "version": 3
   },
   "file_extension": ".py",
   "mimetype": "text/x-python",
   "name": "python",
   "nbconvert_exporter": "python",
   "pygments_lexer": "ipython3",
   "version": "3.7.4"
  }
 },
 "nbformat": 4,
 "nbformat_minor": 2
}
