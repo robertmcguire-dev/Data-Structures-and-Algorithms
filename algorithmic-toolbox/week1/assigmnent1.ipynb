{
 "cells": [
  {
   "cell_type": "markdown",
   "metadata": {},
   "source": [
    "# Course 1: Algorithmic Toolbox\n",
    "The course covers basic algorithmic techniques and ideas for computational problems arising frequently in practical applications: sorting and searching, divide and conquer, greedy algorithms, dynamic programming. We will learn a lot of theory: how to sort data and how it helps for searching; how to break a large problem into pieces and solve them recursively; when it makes sense to proceed greedily; how dynamic programming is used in genomic studies. You will practice solving computational problems, designing new algorithms, and implementing solutions efficiently (so that they run in less than a second).\n"
   ]
  },
  {
   "cell_type": "markdown",
   "metadata": {},
   "source": [
    "## Week1: Assignment 1"
   ]
  },
  {
   "cell_type": "code",
   "execution_count": 1,
   "metadata": {},
   "outputs": [
    {
     "data": {
      "text/plain": [
       "undefined"
      ]
     },
     "execution_count": 1,
     "metadata": {},
     "output_type": "execute_result"
    }
   ],
   "source": [
    "/*Sum of Two Digits\n",
    "Compute the sum of two single digit numbers.\n",
    "\n",
    "Specification\n",
    "Input: Two single digit numbers.\n",
    "Constraints: 0 <= a, b <= 9\n",
    "Output: The sum of these numbers.\n",
    "\n",
    "Samples\n",
    ">>> a = 9, b = 7\n",
    ">>> sumOfTwoDigits(a, b)\n",
    ">>> 16\n",
    ">>> Explanation: Adding the integer 9 to the integer 7 returns the integer 16. */"
   ]
  },
  {
   "cell_type": "code",
   "execution_count": 2,
   "metadata": {},
   "outputs": [
    {
     "data": {
      "text/plain": [
       "undefined"
      ]
     },
     "execution_count": 2,
     "metadata": {},
     "output_type": "execute_result"
    }
   ],
   "source": [
    "/* Pseudocode\n",
    "SumOfTwoDigits(a, b):\n",
    "return a + b */"
   ]
  },
  {
   "cell_type": "code",
   "execution_count": 3,
   "metadata": {},
   "outputs": [
    {
     "data": {
      "text/plain": [
       "16"
      ]
     },
     "execution_count": 3,
     "metadata": {},
     "output_type": "execute_result"
    }
   ],
   "source": [
    "const sumOfTwoDigits = (a, b) => {\n",
    "  return a + b\n",
    "}\n",
    "\n",
    "sumOfTwoDigits(9, 7)"
   ]
  },
  {
   "cell_type": "code",
   "execution_count": 4,
   "metadata": {},
   "outputs": [
    {
     "data": {
      "text/plain": [
       "undefined"
      ]
     },
     "execution_count": 4,
     "metadata": {},
     "output_type": "execute_result"
    }
   ],
   "source": [
    "/* Maximum Pairwise Product \n",
    "Find the maximum product of two distinct numbers in a sequence of non-negative integers.\n",
    "\n",
    "Specification\n",
    "Input: A sequence of non-negative integers.\n",
    "Constraints: 2 <= n <= 2*10^5; 0 <= a1, ..., an <= 2*10^5\n",
    "Output: The maximum pairwise product.\n",
    "\n",
    "Samples\n",
    ">>> n = 3, A = [1 2 3]\n",
    ">>> maximumPairwiseProduct(A)\n",
    ">>> 6\n",
    ">>> Explanation: The integer 2 multiplied by the integer 3 returns 6.\n",
    ">>> n = 10, A = [7 5 14 2 8 8 10 1 2 3]\n",
    ">>> 140\n",
    ">>> Explanation: The integer 14 multiplied by the integer 10 returns 140.\n",
    "*/\n"
   ]
  },
  {
   "cell_type": "code",
   "execution_count": 5,
   "metadata": {},
   "outputs": [
    {
     "data": {
      "text/plain": [
       "undefined"
      ]
     },
     "execution_count": 5,
     "metadata": {},
     "output_type": "execute_result"
    }
   ],
   "source": [
    "/* Pseudocode\n",
    "MaxPairwiseProduct(A):\n",
    "firstIndex <- 1\n",
    "secondIndex <- 1\n",
    "DO i = 2 to length(A)\n",
    "  IF (A[i] > A[firstIndex)\n",
    "    firstIndex = i\n",
    "  ENDIF\n",
    "ENDDO\n",
    "DO i = 2 to length(A)\n",
    "  IF (A[i] != A[firstIndex AND A[i] > A[secondIndex]\n",
    "    secondIndex = i\n",
    "  ENDIF\n",
    "ENDDO\n",
    "return A[firstIndex] * A[secondIndex]*/"
   ]
  },
  {
   "cell_type": "code",
   "execution_count": 6,
   "metadata": {},
   "outputs": [
    {
     "data": {
      "text/plain": [
       "140"
      ]
     },
     "execution_count": 6,
     "metadata": {},
     "output_type": "execute_result"
    }
   ],
   "source": [
    "const maxPairwiseProduct = (A) => {\n",
    "  let i\n",
    "  let index1 = 1\n",
    "  let index2 = 1\n",
    "  for (i = 2; i < A.length; i++) {\n",
    "    if (A[i] > A[index1]) {\n",
    "      index1 = i\n",
    "    }\n",
    "  }\n",
    "  for (i = 2; i < A.length; i++) {\n",
    "    if ((A[i] !== A[index1]) && (A[i] > A[index2])) {\n",
    "      index2 = i\n",
    "    }\n",
    "  }\n",
    "  return A[index1] * A[index2]\n",
    "}\n",
    "\n",
    "maxPairwiseProduct([7, 5, 14, 2, 8, 8, 10, 1, 2, 3])"
   ]
  },
  {
   "cell_type": "code",
   "execution_count": null,
   "metadata": {},
   "outputs": [],
   "source": []
  }
 ],
 "metadata": {
  "kernelspec": {
   "display_name": "Javascript (Node.js)",
   "language": "javascript",
   "name": "javascript"
  },
  "language_info": {
   "file_extension": ".js",
   "mimetype": "application/javascript",
   "name": "javascript",
   "version": "12.13.0"
  }
 },
 "nbformat": 4,
 "nbformat_minor": 2
}
